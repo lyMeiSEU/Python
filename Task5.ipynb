{
 "cells": [
  {
   "cell_type": "code",
   "execution_count": 1,
   "metadata": {},
   "outputs": [
    {
     "name": "stderr",
     "output_type": "stream",
     "text": [
      "Using TensorFlow backend.\n"
     ]
    },
    {
     "name": "stdout",
     "output_type": "stream",
     "text": [
      "WARNING:tensorflow:From /home/daichengliang/anaconda3/lib/python3.7/site-packages/tensorflow/python/framework/op_def_library.py:263: colocate_with (from tensorflow.python.framework.ops) is deprecated and will be removed in a future version.\n",
      "Instructions for updating:\n",
      "Colocations handled automatically by placer.\n",
      "WARNING:tensorflow:From /home/daichengliang/anaconda3/lib/python3.7/site-packages/tensorflow/python/ops/math_ops.py:3066: to_int32 (from tensorflow.python.ops.math_ops) is deprecated and will be removed in a future version.\n",
      "Instructions for updating:\n",
      "Use tf.cast instead.\n",
      "Train on 60000 samples, validate on 10000 samples\n",
      "Epoch 1/10\n",
      " - 8s - loss: 0.2833 - acc: 0.9196 - val_loss: 0.1473 - val_acc: 0.9556\n",
      "Epoch 2/10\n",
      " - 8s - loss: 0.1108 - acc: 0.9680 - val_loss: 0.0941 - val_acc: 0.9710\n",
      "Epoch 3/10\n",
      " - 8s - loss: 0.0724 - acc: 0.9793 - val_loss: 0.0750 - val_acc: 0.9771\n",
      "Epoch 4/10\n",
      " - 8s - loss: 0.0506 - acc: 0.9857 - val_loss: 0.0677 - val_acc: 0.9783\n",
      "Epoch 5/10\n",
      " - 8s - loss: 0.0365 - acc: 0.9902 - val_loss: 0.0630 - val_acc: 0.9798\n",
      "Epoch 6/10\n",
      " - 8s - loss: 0.0263 - acc: 0.9933 - val_loss: 0.0570 - val_acc: 0.9831\n",
      "Epoch 7/10\n",
      " - 8s - loss: 0.0200 - acc: 0.9949 - val_loss: 0.0619 - val_acc: 0.9812\n",
      "Epoch 8/10\n",
      " - 8s - loss: 0.0138 - acc: 0.9972 - val_loss: 0.0569 - val_acc: 0.9821\n",
      "Epoch 9/10\n",
      " - 8s - loss: 0.0109 - acc: 0.9976 - val_loss: 0.0606 - val_acc: 0.9815\n",
      "Epoch 10/10\n",
      " - 8s - loss: 0.0079 - acc: 0.9987 - val_loss: 0.0606 - val_acc: 0.9821\n",
      "Baseline Error: 1.79%\n"
     ]
    }
   ],
   "source": [
    "#import some modules and classes\n",
    "\n",
    "import numpy\n",
    "from keras.models import Sequential\n",
    "from keras.layers import Dense\n",
    "from keras.layers import Dropout\n",
    "from keras.utils import np_utils\n",
    "import numpy as np\n",
    "from keras.datasets import mnist\n",
    "import matplotlib.pyplot as plt\n",
    "(X_train,y_train),(X_test,y_test)=mnist.load_data()\n",
    "\n",
    "#flatten 28*28 images to a 784 vector for each image\n",
    "num_pixels = X_train.shape[1] * X_train.shape[2]\n",
    "\n",
    "\n",
    "#flattening numpy array 28*28 to 784\n",
    "X_train = X_train.reshape(X_train.shape[0], num_pixels).astype('float32')\n",
    "X_test = X_test.reshape(X_test.shape[0], num_pixels).astype('float32')\n",
    "\n",
    "\n",
    "# normalize inputs from 0-255 to 0-1\n",
    "X_train = X_train/255\n",
    "X_test = X_test/255\n",
    "\n",
    "\n",
    "\n",
    "\n",
    "y_train = np_utils.to_categorical(y_train)\n",
    "y_test = np_utils.to_categorical(y_test)\n",
    "num_classes = y_test.shape[1]\n",
    "y_train.shape\n",
    "\n",
    "\n",
    "\n",
    "\n",
    "\n",
    "# define baseline model\n",
    "\n",
    "def baseline_model():\n",
    "    model = Sequential()\n",
    "    model.add(Dense(num_pixels, input_dim=num_pixels, kernel_initializer='normal', activation='relu'))\n",
    "    model.add(Dense(num_classes, kernel_initializer='normal', activation='softmax'))\n",
    "    # final evaluation of the model\n",
    "    model.compile(loss='categorical_crossentropy', optimizer='adam', metrics=['accuracy'])\n",
    "    return model\n",
    "\n",
    "# build the model\n",
    "\n",
    "model = baseline_model()\n",
    "\n",
    "# one hot encode outputs\n",
    "\n",
    "\n",
    "# fit the model\n",
    "\n",
    "model.fit(X_train, y_train, validation_data=(X_test, y_test), epochs=10, batch_size=200, verbose=2)\n",
    "\n",
    "\n",
    "scores = model.evaluate(X_test, y_test, verbose=0)\n",
    "print(\"Baseline Error: %.2f%%\" % (100-scores[1]*100))\n",
    "\n"
   ]
  },
  {
   "cell_type": "code",
   "execution_count": null,
   "metadata": {},
   "outputs": [],
   "source": []
  }
 ],
 "metadata": {
  "kernelspec": {
   "display_name": "Python 3",
   "language": "python",
   "name": "python3"
  },
  "language_info": {
   "codemirror_mode": {
    "name": "ipython",
    "version": 3
   },
   "file_extension": ".py",
   "mimetype": "text/x-python",
   "name": "python",
   "nbconvert_exporter": "python",
   "pygments_lexer": "ipython3",
   "version": "3.7.0"
  }
 },
 "nbformat": 4,
 "nbformat_minor": 2
}
